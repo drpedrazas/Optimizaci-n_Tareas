{
 "cells": [
  {
   "cell_type": "markdown",
   "id": "68848011",
   "metadata": {},
   "source": [
    "## 1.Book's Problems\n",
    "\n"
   ]
  },
  {
   "cell_type": "markdown",
   "id": "09377591",
   "metadata": {},
   "source": [
    "__2.1__ \n",
    "Let $C ⊆ R^n$ be a convex set, with $x_1 , . . . , x_k ∈ C$, and let $θ_1 , . . . , θ_k ∈ R^n$ satisfy $θ_i$ ≥ 0,\n",
    "$θ_1 + · · · + θ_k = 1$. Show that $θ_1 x_1 + · · · + θ_k x_k ∈ C$. (The definition of convexity is that\n",
    "this holds for k = 2; you must show it for arbitrary k.) Hint. Use induction on k."
   ]
  },
  {
   "cell_type": "markdown",
   "id": "47040ef4",
   "metadata": {},
   "source": [
    "**Solution:**\n",
    "\n",
    "**P1.** Since $C$ is convex, if $\\theta_1, \\theta_2 \\in R$,  $\\theta_1 + \\theta_2 = 1$ and $x_1, x_2 \\in C$ as well as satisfying $\\theta_i \\geq 0$, then we have that $\\theta_1 x_1 + \\theta_2 x_2 \\in C$.\n",
    "\n",
    "**P2.** Suppose that for any $x_1 , . . . , x_{k-1} ∈ C$, and any $θ_1 , . . . , θ_{k-1} ∈ R^n$ such that $θ_i$ ≥ 0,\n",
    " and $θ_1 + · · · + θ_k = 1$ we have $θ_1 x_1 + · · · + θ_k x_{k-1} ∈ C$.\n",
    " \n",
    "**P3.** Let $x_1 , . . . , x_k ∈ C$, as well as  $θ_1 , . . . , θ_k ∈ R^n$ such that $θ_i$ ≥ 0, $θ_1 + · · · + θ_k = 1$. At least one of these $\\theta$'s is different to $1$. Without loss of generality we get that $θ_1 x_1 + · · · + θ_k x_k = \\theta_1 x_1 + (1-\\theta_1)(\\epsilon_2 x_2 + \\cdots + \\epsilon_k x_k)$ where $\\epsilon_i = \\frac{\\theta_i}{1-\\theta_1}$. \n",
    "\n",
    "Since $\\sum_{i=2}^{k} \\theta_i = 1 - \\theta_1$ it follows that: $\\sum_{i=2}^{k} \\epsilon_i = 1$ with $\\epsilon_i \\geq 0$. Because of this and **P2** we have that $\\sum_{i=2}^{k} \\epsilon_i x_i \\in C$. From **P1** we have that $ x_1 \\theta_1 + (1-\\theta_1)(\\sum_{i=2}^{k} \\epsilon_i x_i) \\in C$. We then conclude that: $$x_1 \\theta_1 + \\cdots + x_k \\theta_k \\in C$$\n"
   ]
  },
  {
   "cell_type": "markdown",
   "id": "8476b572",
   "metadata": {},
   "source": [
    "__2.3 Midpoint convexity.__  A set C is midpoint convex if whenever two points a, b are in C, the average or midpoint $(a + b)/2$ is in $C$. Obviously a convex set is midpoint convex. It can be proved that under mild conditions midpoint convexity implies convexity. As a simple case, prove that if C is closed and midpoint convex, then C is convex."
   ]
  },
  {
   "cell_type": "markdown",
   "id": "4a0eb3ee",
   "metadata": {},
   "source": [
    "**Solution:**\n",
    "\n",
    "Our goal is to prove that $\\theta a + (1-\\theta)b \\in C $ if $ 1 \\geq \\theta \\geq 0$.\n",
    "\n",
    "Let $\\theta \\in [0,1]$. Consider $U_0 = [0,1]$.\n",
    "\n",
    "If $U_i = [r,s]$ then:\n",
    "\n",
    "$U_{i+1} = [r, \\frac{r+s}{2}]$, if $\\theta \\in [r,\\frac{r+s}{2}]$\n",
    "\n",
    "or\n",
    "\n",
    "$U_{i+1} = [\\frac{r+s}{2}, s]$, if $\\theta \\in (\\frac{r+s}{2},s]$\n",
    "\n",
    "It is clear that $\\cap_{i=0}^{\\infty} U_i = \\{\\theta\\}$. Let $\\mu_i$ be the upper bound of $U_i$, since we build $U_i$ using midpoints we have that $a\\mu_i + b (1-\\mu_i) \\in C$. Since $C$ is closed we have that $\\lim_{i \\rightarrow \\infty} a\\mu_i  + (1- \\mu_i) b \\in C$. That is: $$\\theta a + (1-\\theta)b \\in C$$"
   ]
  },
  {
   "cell_type": "markdown",
   "id": "6a2941c2",
   "metadata": {},
   "source": [
    "__2.4__ Show that the convex hull of a set S is the intersection of all convex sets that contain S.\n",
    "(The same method can be used to show that the conic, or affine, or linear hull of a set S\n",
    "is the intersection of all conic sets, or affine sets, or subspaces that contain S.)"
   ]
  },
  {
   "cell_type": "markdown",
   "id": "8b955a25",
   "metadata": {},
   "source": [
    "__Solution:__\n",
    "\n",
    "__P1.__ Let $C$ be a convex such that $S \\subseteq C$. Note that if $y \\in hull(S)$, then $y = x_1 \\mu_1 + x_2 \\mu_2$, with $x_1,x_2 \\in S$, $\\mu_1+\\mu_2 = 1$ and $\\mu_i \\geq 0$. We know that if $x_1,x_2 \\in S$  then $x_1,x_2 \\in C$. Thus $x_1 \\mu_1 + x_2 \\mu_2 \\in C$, which means that $hull(S) \\subseteq C$.\n",
    "\n",
    "__P2.__ Let $C_S$ be the set of all convex sets that contain $S$. It is clear that $hull(S) \\in C_S$. \n",
    "\n",
    "__P3.__ By virtue of __P1__: $hull(S) \\subseteq C$ for all $C \\in C_S$. \n",
    "\n",
    "__P4.__ From __P2__ it folows that: $\\bigcap_{C \\in C_S} C \\subseteq hull(S)$ \n",
    "\n",
    "__P5.__ And from __P3__ we have: $hull(S) \\subseteq \\bigcap_{C \\in C_S} C$ \n",
    "\n",
    "Thus we conclude, from __P4__ and __P5__, that: $hull(S) = \\bigcap_{C \\in C_S} C$"
   ]
  },
  {
   "cell_type": "markdown",
   "id": "a38789ed",
   "metadata": {},
   "source": [
    "__2.5__ What is the distance between two parallel hyperplanes {x ∈ $R^n$ | aT x = $b_1$ } and {x ∈\n",
    "$R^n$ | aT x = $b_2$ }?"
   ]
  },
  {
   "cell_type": "markdown",
   "id": "e8d5c88f",
   "metadata": {},
   "source": [
    "__Solution:__\n",
    "\n",
    "The distance between two paralel hyperplanes is the distance between two points both belonging to the line paralel\n",
    "to the their normal vector, in this case $a$. This two points, let's call them $x_1$ and $x_2$, are given by:\n",
    "\n",
    "$$x_1 = (b_1 / \\| a \\|^{2}_{2})a$$\n",
    "$$x_2 = (b_2 / \\| a \\|^{2}_{2})a$$\n",
    "\n",
    "The distance is:\n",
    "\n",
    "$$\\|x_1-x_2\\|_{2} = |b_1-b_2|/\\|a\\|_2$$"
   ]
  },
  {
   "cell_type": "markdown",
   "id": "44fac885",
   "metadata": {},
   "source": [
    "__2.8__ Which of the following sets $S$ are polyhedra? If possible, express $S$ in the form $S =\\{x | Ax \\preceq b, F x = g\\}$.\n",
    "\n",
    "__(a)__ $S = \\{y_1 a_1 + y_2 a_2 | -1 \\leq y_1 \\leq 1, -1 \\leq y_2 \\leq 1\\}$, where $a_1,a_2 \\in R^n$.\n",
    "\n",
    "__(b)__ $S = \\{x \\in R^n | x \\succeq 0, 1^T x = 1, \\sum_{i=1}^{n} x_i a_i = b_1, \\sum_{i=1}^{n} x_i a^{2}_{i} = b_2\\}$ where $a_1, \\cdots , a_n \\in R$ and $b_1, b_2 \\in R$.\n",
    "\n",
    "__(c)__ $S=\\{ x \\in R^n | x \\geq 0, x^T y \\leq 1 \\text{ for all }y\\text{ such that }\\|y\\|_2 = 1\\}$\n",
    "\n",
    "__(d)__ $S=\\{ x \\in R^n | x \\geq 0, x^T y \\leq 1 \\text{ for all }y\\text{ such that } \\sum |y|_i = 1\\}$"
   ]
  },
  {
   "cell_type": "markdown",
   "id": "69907e17",
   "metadata": {},
   "source": [
    "__Solution:__\n",
    "\n",
    "\n",
    "__(a)__ "
   ]
  },
  {
   "cell_type": "markdown",
   "id": "dfec26e1",
   "metadata": {},
   "source": [
    "__2.9__ Voronoi sets and polyhedral decomposition. Let $x_0 , . . . , x_K ∈ R^n$ . Consider the set of\n",
    "points that are closer (in Euclidean norm) to x0 than the other xi , i.e.,\n",
    "\n",
    "$$V=\\{x \\in R^n | \\|x-x_0\\|_2 \\leq \\|x-x_i\\|_2, i = 1, \\cdots , K\\}$$\n",
    "\n",
    "V is called the Voronoi region around $x_0$ with respect to $x_1 , . . . , x_K$ .\n",
    "\n",
    "__(a)__ Show that V is a polyhedron. Express V in the form V = {x | Ax \u0016 b}.\n",
    "\n",
    "__(b)__ Conversely, given a polyhedron P with nonempty interior, show how to find $x_0 , . . . , x_K$\n",
    "so that the polyhedron is the Voronoi region of $x_0$ with respect to $x_1 , . . . , x_K$ .\n",
    "\n",
    "__(c)__ We can also consider the sets $V_k = \\{x ∈ R^n | \\|x − x_k\\|_2 ≤ \\|x − xi\\|_2 , i \\neq k\\}$.\n",
    "The set $V_k$ consists of points in $R^n$ for which the closest point in the set ${x_0 , . . . , x_K }$\n",
    "is $x_k$ ."
   ]
  },
  {
   "cell_type": "markdown",
   "id": "16909ef8",
   "metadata": {},
   "source": [
    "__2.10__ Solution set of a quadratic inequality. Let C ⊆ Rn be the solution set of a quadratic\n",
    "inequality,\n",
    "C = {x ∈ Rn | xT Ax + bT x + c ≤ 0},\n",
    "n\n",
    "n\n",
    "with A ∈ S , b ∈ R , and c ∈ R.\n",
    "(a) Show that C is convex if A \u0017 0.\n",
    "(b) Show that the intersection of C and the hyperplane defined by g T x + h = 0 (where\n",
    "g 6= 0) is convex if A + λgg T \u0017 0 for some λ ∈ R.\n",
    "Are the converses of these statements true?"
   ]
  },
  {
   "cell_type": "markdown",
   "id": "fbd13b18",
   "metadata": {},
   "source": [
    "__2.13__ Conic hull of outer products. Consider the set of rank-k outer products, defined as\n",
    "{XX T | X ∈ Rn×k , rank X = k}. Describe its conic hull in simple terms."
   ]
  },
  {
   "cell_type": "markdown",
   "id": "059ed790",
   "metadata": {},
   "source": [
    "__2.14__ Expanded and restricted sets. Let S ⊆ Rn , and let k · k be a norm on Rn .\n",
    "(a) For a ≥ 0 we define Sa as {x | dist(x, S) ≤ a}, where dist(x, S) = inf y∈S kx − yk.\n",
    "We refer to Sa as S expanded or extended by a. Show that if S is convex, then Sa\n",
    "is convex.\n",
    "(b) For a ≥ 0 we define S−a = {x | B(x, a) ⊆ S}, where B(x, a) is the ball (in the norm\n",
    "k · k), centered at x, with radius a. We refer to S−a as S shrunk or restricted by a,\n",
    "since S−a consists of all points that are at"
   ]
  },
  {
   "cell_type": "markdown",
   "id": "3c2b7187",
   "metadata": {},
   "source": [
    "__2.15__\n",
    "Some sets of probability distributions. Let x be a real-valued random variable with\n",
    "prob(x = ai ) = pi , i = 1, . . . , n, where a1 < a2 < · · · < an . Of course p ∈ Rn lies\n",
    "in the standard probability simplex P = {p | 1T p = 1, p \u0017 0}. Which of the following\n",
    "conditions are convex in p? (That is, for which of the following conditions is the set of\n",
    "p ∈ P that satisfy the condition convex?)\n",
    "(a) α\n",
    "Pn≤ E f (x) ≤ β, where E f (x) is the expected value of f (x), i.e., E f (x) =\n",
    "p f (ai ). (The function f : R → R is given.)\n",
    "i=1 i\n",
    "(b) prob(x > α) ≤ β.\n",
    "(c) E |x3 | ≤ α E |x|.\n",
    "(d) E x2 ≤ α.\n",
    "(e) E x2 ≥ α.\n",
    "(f) var(x) ≤ α, where var(x) = E(x − E x)2 is the variance of x.\n",
    "(g) var(x) ≥ α.\n",
    "(h) quartile(x) ≥ α, where quartile(x) = inf{β | prob(x ≤ β) ≥ 0.25}.\n",
    "(i) quartile(x) ≤ α."
   ]
  },
  {
   "cell_type": "markdown",
   "id": "a7ed8d25",
   "metadata": {},
   "source": [
    "__2.16__ Show that if S1 and S2 are convex sets in Rm+n , then so is their partial sum\n",
    "S = {(x, y1 + y2 ) | x ∈ Rm , y1 , y2 ∈ Rn , (x, y1 ) ∈ S1 , (x, y2 ) ∈ S2 }."
   ]
  },
  {
   "cell_type": "markdown",
   "id": "74403781",
   "metadata": {},
   "source": [
    "__2.17__ Image of polyhedral sets under perspective function. In this problem we study the image\n",
    "of hyperplanes, halfspaces, and polyhedra under the perspective function P (x, t) = x/t,\n",
    "with dom P = Rn × R++ . For each of the following sets C, give a simple description of\n",
    "P (C) = {v/t | (v, t) ∈ C, t > 0}.\n",
    "(a) The polyhedron C = conv{(v1 , t1 ), . . . , (vK , tK )} where vi ∈ Rn and ti > 0.\n",
    "(b) The hyperplane C = {(v, t) | f T v + gt = h} (with f and g not both zero).\n",
    "(c) The halfspace C = {(v, t) | f T v + gt ≤ h} (with f and g not both zero).\n",
    "(d) The polyhedron C = {(v, t) | F v + gt \u0016 h}."
   ]
  },
  {
   "cell_type": "markdown",
   "id": "5cc3f65f",
   "metadata": {},
   "source": [
    "__2.18__ Invertible linear-fractional functions. Let f : Rn → Rn be the linear-fractional function\n",
    "f (x) = (Ax + b)/(cT x + d),\n",
    "Suppose the matrix\n",
    "Q=\n",
    "\u0014\n",
    "dom f = {x | cT x + d > 0}.\n",
    "A\n",
    "cT\n",
    "b\n",
    "d\n",
    "\u0015\n",
    "is nonsingular. Show that f is invertible and that f −1 is a linear-fractional mapping.\n",
    "Give an explicit expression for f −1 and its domain in terms of A, b, c, and d. Hint. It\n",
    "may be easier to express f −1 in terms of Q."
   ]
  },
  {
   "cell_type": "markdown",
   "id": "0f67ad1f",
   "metadata": {},
   "source": [
    "## 2. Convex Cone Algorithm"
   ]
  },
  {
   "cell_type": "markdown",
   "id": "3d35a162",
   "metadata": {},
   "source": [
    "## 3. Solution Set of LMI is Convex"
   ]
  },
  {
   "cell_type": "markdown",
   "id": "1ec0f5b5",
   "metadata": {},
   "source": [
    "Let the affine equation be: $$T(x)=B-x_1A_1- \\cdots -x_nA_n$$\n",
    "\n",
    "The solution set to this LMI can be described as $$S = \\{x∣T(x)\\geq 0\\}=T^{−1}(S^m_+),$$\n",
    "\n",
    "Let $x,y\\in S$ and $λ∈[0,1]$. Hence,\n",
    "$$T(λx+(1−λ)y)=\\cdots=λT(x)+(1−λ)T(y)⪰0$$\n",
    "Since a convex combination of two positive semidefinite matrices is also positive semidefinite, we conclude that set S is convex."
   ]
  },
  {
   "cell_type": "code",
   "execution_count": null,
   "id": "53bd328f",
   "metadata": {},
   "outputs": [],
   "source": [
    "\n"
   ]
  }
 ],
 "metadata": {
  "kernelspec": {
   "display_name": "Julia 1.7.2",
   "language": "julia",
   "name": "julia-1.7"
  },
  "language_info": {
   "file_extension": ".jl",
   "mimetype": "application/julia",
   "name": "julia",
   "version": "1.7.2"
  }
 },
 "nbformat": 4,
 "nbformat_minor": 5
}
